{
 "cells": [
  {
   "cell_type": "code",
   "execution_count": 8,
   "metadata": {
    "vscode": {
     "languageId": "shellscript"
    }
   },
   "outputs": [
    {
     "name": "stdout",
     "output_type": "stream",
     "text": [
      "\u001b[1;30mINFO\u001b[0m /opt/conda/bin/cwltool 3.1.20231114134824\n",
      "\u001b[1;30mINFO\u001b[0m Resolved 'workflow.cwl' to 'file:///workspace/cwl-guide-for-eo/notebooks/02%20-%20Capture%20stdout/workflow.cwl'\n",
      "\u001b[1;30mINFO\u001b[0m [workflow ] start\n",
      "\u001b[1;30mINFO\u001b[0m [workflow ] starting step rio-info\n",
      "\u001b[1;30mINFO\u001b[0m [step rio-info] start\n",
      "\u001b[1;30mINFO\u001b[0m [job rio-info] /tmp/tz3z98xs$ podman \\\n",
      "    run \\\n",
      "    -i \\\n",
      "    --userns=keep-id \\\n",
      "    --mount=type=bind,source=/tmp/tz3z98xs,target=/NlheIL \\\n",
      "    --mount=type=bind,source=/tmp/fhgtb34i,target=/tmp \\\n",
      "    --workdir=/NlheIL \\\n",
      "    --read-only=true \\\n",
      "    --log-driver=none \\\n",
      "    --user=1001:100 \\\n",
      "    --rm \\\n",
      "    --cidfile=/tmp/tsgh8oxn/20240402135118-758375.cid \\\n",
      "    --env=TMPDIR=/tmp \\\n",
      "    --env=HOME=/NlheIL \\\n",
      "    localhost/rio:latest \\\n",
      "    rio \\\n",
      "    info \\\n",
      "    https://sentinel-cogs.s3.us-west-2.amazonaws.com/sentinel-s2-l2a-cogs/10/T/FK/2021/7/S2B_10TFK_20210713_0_L2A/TCI.tif > /tmp/tz3z98xs/message\n",
      "\u001b[1;30mINFO\u001b[0m [job rio-info] Max memory used: 4018MiB\n",
      "\u001b[1;30mINFO\u001b[0m [job rio-info] completed success\n",
      "\u001b[1;30mINFO\u001b[0m [step rio-info] completed success\n",
      "\u001b[1;30mINFO\u001b[0m [workflow ] completed success\n",
      "\u001b[1;30mINFO\u001b[0m Final process status is success\n"
     ]
    }
   ],
   "source": [
    "cwltool workflow.cwl --tif \"https://sentinel-cogs.s3.us-west-2.amazonaws.com/sentinel-s2-l2a-cogs/10/T/FK/2021/7/S2B_10TFK_20210713_0_L2A/TCI.tif\" > std.json"
   ]
  },
  {
   "cell_type": "code",
   "execution_count": 9,
   "metadata": {
    "vscode": {
     "languageId": "shellscript"
    }
   },
   "outputs": [
    {
     "name": "stdout",
     "output_type": "stream",
     "text": [
      "{\n",
      "    \"info\": {\n",
      "        \"blockxsize\": 1024,\n",
      "        \"blockysize\": 1024,\n",
      "        \"bounds\": [\n",
      "            600000,\n",
      "            4390200,\n",
      "            709800,\n"
     ]
    },
    {
     "name": "stdout",
     "output_type": "stream",
     "text": [
      "            4500000\n",
      "        ],\n",
      "        \"colorinterp\": [\n",
      "            \"red\",\n",
      "            \"green\",\n",
      "            \"blue\"\n",
      "        ],\n",
      "        \"compress\": \"deflate\",\n",
      "        \"count\": 3,\n",
      "        \"crs\": \"EPSG:32610\",\n",
      "        \"descriptions\": [\n",
      "            null,\n",
      "            null,\n",
      "            null\n",
      "        ],\n",
      "        \"driver\": \"GTiff\",\n",
      "        \"dtype\": \"uint8\",\n",
      "        \"height\": 10980,\n",
      "        \"indexes\": [\n",
      "            1,\n",
      "            2,\n",
      "            3\n",
      "        ],\n",
      "        \"interleave\": \"pixel\",\n",
      "        \"lnglat\": [\n",
      "            -121.18160686746373,\n",
      "            40.1419732942866\n",
      "        ],\n",
      "        \"mask_flags\": [\n",
      "            [\n",
      "                \"nodata\"\n",
      "            ],\n",
      "            [\n",
      "                \"nodata\"\n",
      "            ],\n",
      "            [\n",
      "                \"nodata\"\n",
      "            ]\n",
      "        ],\n",
      "        \"nodata\": 0,\n",
      "        \"res\": [\n",
      "            10,\n",
      "            10\n",
      "        ],\n",
      "        \"shape\": [\n",
      "            10980,\n",
      "            10980\n",
      "        ],\n",
      "        \"tiled\": true,\n",
      "        \"transform\": [\n",
      "            10,\n",
      "            0,\n",
      "            600000,\n",
      "            0,\n",
      "            -10,\n",
      "            4500000,\n",
      "            0,\n",
      "            0,\n",
      "            1\n",
      "        ],\n",
      "        \"units\": [\n",
      "            null,\n",
      "            null,\n",
      "            null\n",
      "        ],\n",
      "        \"width\": 10980\n",
      "    }\n",
      "}\n"
     ]
    }
   ],
   "source": [
    "cat std.json"
   ]
  },
  {
   "cell_type": "code",
   "execution_count": null,
   "metadata": {
    "vscode": {
     "languageId": "shellscript"
    }
   },
   "outputs": [],
   "source": []
  }
 ],
 "metadata": {
  "kernelspec": {
   "display_name": "Bash",
   "language": "bash",
   "name": "bash"
  },
  "language_info": {
   "codemirror_mode": "shell",
   "file_extension": ".sh",
   "mimetype": "text/x-sh",
   "name": "bash"
  }
 },
 "nbformat": 4,
 "nbformat_minor": 2
}
