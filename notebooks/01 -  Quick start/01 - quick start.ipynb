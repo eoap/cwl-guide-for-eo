{
 "cells": [
  {
   "cell_type": "markdown",
   "metadata": {},
   "source": [
    "# Quick start"
   ]
  },
  {
   "cell_type": "markdown",
   "metadata": {},
   "source": [
    "CWL is a way to describe command-line tools and connect them together to create workflows. \n",
    "\n",
    "Because CWL is a specification and not a specific piece of software, tools and workflows described using CWL are portable across a variety of platforms that support the CWL standard.\n",
    "\n",
    "CWL documents are written in YAML (and/or JSON). \n",
    "\n",
    "The example below shows a simple CWL “Hello World” workflow annotated with comments. Note that comments start with #:"
   ]
  },
  {
   "cell_type": "code",
   "execution_count": 1,
   "metadata": {
    "vscode": {
     "languageId": "shellscript"
    }
   },
   "outputs": [
    {
     "name": "stdout",
     "output_type": "stream",
     "text": [
      "cwlVersion: v1.2\n",
      "\n",
      "# What type of CWL process we have in this document.\n",
      "class: CommandLineTool\n",
      "# This CommandLineTool executes the rasterio \"rio\" command-line tool.\n",
      "baseCommand: rio\n",
      "# The arguments for this process\n",
      "arguments: \n",
      "- bounds\n",
      "# The inputs for this process.\n",
      "inputs:\n",
      "  geotiff:\n",
      "    type: string\n",
      "    # A default value that can be overridden, e.g. --message \"Hola mundo\"\n",
      "    default: \"https://sentinel-cogs.s3.us-west-2.amazonaws.com/sentinel-s2-l2a-cogs/10/T/FK/2021/7/S2B_10TFK_20210713_0_L2A/TCI.tif\"\n",
      "    # Bind this message value as an argument to \"echo\".\n",
      "    inputBinding:\n",
      "      position: 1\n",
      "outputs: []\n",
      "\n",
      "requirements:\n",
      "    DockerRequirement:\n",
      "        dockerPull: localhost/rio:latest\n",
      "    NetworkAccess:\n",
      "        networkAccess: true\n"
     ]
    }
   ],
   "source": [
    "cat quick-start.cwl"
   ]
  },
  {
   "cell_type": "markdown",
   "metadata": {},
   "source": [
    "The example above is just a wrapper for the rasterio `rio bounds` command-line tool. \n",
    "\n",
    "Running the workflow above with the default input values will produce the same result as the command-line:\n",
    "\n",
    "\n",
    "```bash\n",
    "rio bounds \"https://sentinel-cogs.s3.us-west-2.amazonaws.com/sentinel-s2-l2a-cogs/10/T/FK/2021/7/S2B_10TFK_20210713_0_L2A/TCI.tif\"\n",
    "```"
   ]
  },
  {
   "cell_type": "markdown",
   "metadata": {},
   "source": [
    "**Note**: In CWL, there is a distinction between a command-line tool and a workflow. But for the sake of simplicity, we are using the term “workflow” here."
   ]
  },
  {
   "cell_type": "markdown",
   "metadata": {},
   "source": [
    "## CWL Runner\n",
    "\n",
    "`cwltool`` is an implementation of the CWL specification. \n",
    "\n",
    "It is also the CWL Reference Runner for the specification, and it is compliant with the latest version of the specification: v1.2. \n",
    "\n",
    "`cwltool` is installed using pip:\n",
    "\n",
    "```\n",
    "pip install cwltool\n",
    "```\n",
    "\n",
    "It is already install in our environment:"
   ]
  },
  {
   "cell_type": "code",
   "execution_count": 2,
   "metadata": {
    "vscode": {
     "languageId": "shellscript"
    }
   },
   "outputs": [
    {
     "name": "stdout",
     "output_type": "stream",
     "text": [
      "usage: cwltool [-h] [--basedir BASEDIR] [--outdir OUTDIR] [--log-dir LOG_DIR]\n",
      "               [--parallel]\n",
      "               [--preserve-environment ENVVAR | --preserve-entire-environment]\n",
      "               [--rm-container | --leave-container]\n",
      "               [--cidfile-dir CIDFILE_DIR] [--cidfile-prefix CIDFILE_PREFIX]\n",
      "               [--tmpdir-prefix TMPDIR_PREFIX]\n",
      "               [--tmp-outdir-prefix TMP_OUTDIR_PREFIX | --cachedir CACHEDIR]\n",
      "               [--rm-tmpdir | --leave-tmpdir]\n",
      "               [--move-outputs | --leave-outputs | --copy-outputs]\n",
      "               [--enable-pull | --disable-pull]\n",
      "               [--rdf-serializer RDF_SERIALIZER] [--eval-timeout EVAL_TIMEOUT]\n",
      "               [--provenance PROVENANCE] [--enable-user-provenance]\n",
      "               [--disable-user-provenance] [--enable-host-provenance]\n",
      "               [--disable-host-provenance] [--orcid ORCID]\n",
      "               [--full-name CWL_FULL_NAME]\n",
      "               [--print-rdf | --print-dot | --print-pre | --print-deps | --print-input-deps | --pack | --version | --validate | --print-supported-versions | --print-subgraph | --print-targets | --make-template]\n",
      "               [--strict | --non-strict] [--skip-schemas]\n",
      "               [--no-doc-cache | --doc-cache] [--verbose | --quiet | --debug]\n",
      "               [--write-summary WRITE_SUMMARY] [--strict-memory-limit]\n",
      "               [--strict-cpu-limit] [--timestamps] [--js-console]\n",
      "               [--disable-js-validation]\n",
      "               [--js-hint-options-file JS_HINT_OPTIONS_FILE]\n",
      "               [--user-space-docker-cmd CMD | --udocker | --singularity | --podman | --no-container]\n",
      "               [--beta-dependency-resolvers-configuration BETA_DEPENDENCY_RESOLVERS_CONFIGURATION]\n",
      "               [--beta-dependencies-directory BETA_DEPENDENCIES_DIRECTORY]\n",
      "               [--beta-use-biocontainers] [--beta-conda-dependencies]\n",
      "               [--tool-help] [--relative-deps {primary,cwd}] [--enable-dev]\n",
      "               [--enable-ext] [--enable-color | --disable-color]\n",
      "               [--default-container DEFAULT_CONTAINER] [--no-match-user]\n",
      "               [--custom-net CUSTOM_NET]\n",
      "               [--enable-ga4gh-tool-registry | --disable-ga4gh-tool-registry]\n",
      "               [--add-ga4gh-tool-registry GA4GH_TOOL_REGISTRIES]\n",
      "               [--on-error {stop,continue}]\n",
      "               [--compute-checksum | --no-compute-checksum]\n",
      "               [--relax-path-checks] [--force-docker-pull] [--no-read-only]\n",
      "               [--overrides OVERRIDES]\n",
      "               [--target TARGET | --single-step SINGLE_STEP | --single-process SINGLE_PROCESS]\n",
      "               [--mpi-config-file MPI_CONFIG_FILE]\n",
      "               [cwl_document] ...\n",
      "\n",
      "Reference executor for Common Workflow Language standards. Not for production\n",
      "use.\n",
      "\n",
      "positional arguments:\n",
      "  cwl_document          path or URL to a CWL Workflow, CommandLineTool, or\n",
      "                        ExpressionTool. If the `inputs_object` has a\n",
      "                        `cwl:tool` field indicating the path or URL to the\n",
      "                        cwl_document, then the `cwl_document` argument is\n",
      "                        optional.\n",
      "  inputs_object         path or URL to a YAML or JSON formatted description of\n",
      "                        the required input values for the given\n",
      "                        `cwl_document`.\n",
      "\n",
      "optional arguments:\n",
      "  -h, --help            show this help message and exit\n",
      "  --basedir BASEDIR\n",
      "  --outdir OUTDIR       Output directory. The default is the current\n",
      "                        directory.\n",
      "  --log-dir LOG_DIR     Log your tools stdout/stderr to this location outside\n",
      "                        of container This will only log stdout/stderr if you\n",
      "                        specify stdout/stderr in their respective fields or\n",
      "                        capture it as an output\n",
      "  --parallel            [experimental] Run jobs in parallel.\n",
      "  --preserve-environment ENVVAR\n",
      "                        Preserve specific environment variable when running\n",
      "                        CommandLineTools. May be provided multiple times. By\n",
      "                        default PATH is preserved when not running in a\n",
      "                        container.\n",
      "  --preserve-entire-environment\n",
      "                        Preserve all environment variables when running\n",
      "                        CommandLineTools without a software container.\n",
      "  --rm-container        Delete Docker container used by jobs after they exit\n",
      "                        (default)\n",
      "  --leave-container     Do not delete Docker container used by jobs after they\n",
      "                        exit\n",
      "  --tmpdir-prefix TMPDIR_PREFIX\n",
      "                        Path prefix for temporary directories. If --tmpdir-\n",
      "                        prefix is not provided, then the prefix for temporary\n",
      "                        directories is influenced by the value of the TMPDIR,\n",
      "                        TEMP, or TMP environment variables. Taking those into\n",
      "                        consideration, the current default is /tmp/.\n",
      "  --tmp-outdir-prefix TMP_OUTDIR_PREFIX\n",
      "                        Path prefix for intermediate output directories.\n",
      "                        Defaults to the value of --tmpdir-prefix.\n",
      "  --cachedir CACHEDIR   Directory to cache intermediate workflow outputs to\n",
      "                        avoid recomputing steps. Can be very helpful in the\n",
      "                        development and troubleshooting of CWL documents.\n",
      "  --rm-tmpdir           Delete intermediate temporary directories (default)\n",
      "  --leave-tmpdir        Do not delete intermediate temporary directories\n",
      "  --move-outputs        Move output files to the workflow output directory and\n",
      "                        delete intermediate output directories (default).\n",
      "  --leave-outputs       Leave output files in intermediate output directories.\n",
      "  --copy-outputs        Copy output files to the workflow output directory and\n",
      "                        don't delete intermediate output directories.\n",
      "  --enable-pull         Try to pull Docker images\n",
      "  --disable-pull        Do not try to pull Docker images\n",
      "  --rdf-serializer RDF_SERIALIZER\n",
      "                        Output RDF serialization format used by --print-rdf\n",
      "                        (one of turtle (default), n3, nt, xml)\n",
      "  --eval-timeout EVAL_TIMEOUT\n",
      "                        Time to wait for a Javascript expression to evaluate\n",
      "                        before giving an error, default 60s.\n",
      "  --print-rdf           Print corresponding RDF graph for workflow and exit\n",
      "  --print-dot           Print workflow visualization in graphviz format and\n",
      "                        exit\n",
      "  --print-pre           Print CWL document after preprocessing.\n",
      "  --print-deps          Print CWL document dependencies.\n",
      "  --print-input-deps    Print input object document dependencies.\n",
      "  --pack                Combine components into single document and print.\n",
      "  --version             Print version and exit\n",
      "  --validate            Validate CWL document only.\n",
      "  --print-supported-versions\n",
      "                        Print supported CWL specs.\n",
      "  --print-subgraph      Print workflow subgraph that will execute. Can\n",
      "                        combined with --target or --single-step\n",
      "  --print-targets       Print targets (output parameters)\n",
      "  --make-template       Generate a template input object\n",
      "  --strict              Strict validation (unrecognized or out of place fields\n",
      "                        are error)\n",
      "  --non-strict          Lenient validation (ignore unrecognized fields)\n",
      "  --skip-schemas        Skip loading of schemas\n",
      "  --no-doc-cache        Disable disk cache for documents loaded over HTTP\n",
      "  --doc-cache           Enable disk cache for documents loaded over HTTP\n",
      "  --verbose             Default logging\n",
      "  --quiet               Only print warnings and errors.\n",
      "  --debug               Print even more logging\n",
      "  --write-summary WRITE_SUMMARY, -w WRITE_SUMMARY\n",
      "                        Path to write the final output JSON object to. Default\n",
      "                        is stdout.\n",
      "  --strict-memory-limit\n",
      "                        When running with software containers and the Docker\n",
      "                        engine, pass either the calculated memory allocation\n",
      "                        from ResourceRequirements or the default of 1 gigabyte\n",
      "                        to Docker's --memory option.\n",
      "  --strict-cpu-limit    When running with software containers and the Docker\n",
      "                        engine, pass either the calculated cpu allocation from\n",
      "                        ResourceRequirements or the default of 1 core to\n",
      "                        Docker's --cpu option. Requires docker version >=\n",
      "                        v1.13.\n",
      "  --timestamps          Add timestamps to the errors, warnings, and\n",
      "                        notifications.\n",
      "  --js-console          Enable javascript console output\n",
      "  --disable-js-validation\n",
      "                        Disable javascript validation.\n",
      "  --js-hint-options-file JS_HINT_OPTIONS_FILE\n",
      "                        File of options to pass to jshint. This includes the\n",
      "                        added option \"includewarnings\".\n",
      "  --user-space-docker-cmd CMD\n",
      "                        (Linux/OS X only) Specify the path to udocker. Implies\n",
      "                        --udocker\n",
      "  --udocker             (Linux/OS X only) Use the udocker runtime for running\n",
      "                        containers (equivalent to --user-space-docker-\n",
      "                        cmd=udocker).\n",
      "  --singularity         [experimental] Use Singularity runtime for running\n",
      "                        containers. Requires Singularity v2.6.1+ and Linux\n",
      "                        with kernel version v3.18+ or with overlayfs support\n",
      "                        backported.\n",
      "  --podman              [experimental] Use Podman runtime for running\n",
      "                        containers.\n",
      "  --no-container        Do not execute jobs in a Docker container, even when\n",
      "                        `DockerRequirement` is specified under `hints`.\n",
      "  --beta-dependency-resolvers-configuration BETA_DEPENDENCY_RESOLVERS_CONFIGURATION\n",
      "                        Dependency resolver configuration file describing how\n",
      "                        to adapt 'SoftwareRequirement' packages to current\n",
      "                        system.\n",
      "  --beta-dependencies-directory BETA_DEPENDENCIES_DIRECTORY\n",
      "                        Default root directory used by dependency resolvers\n",
      "                        configuration.\n",
      "  --beta-use-biocontainers\n",
      "                        Use biocontainers for tools without an explicitly\n",
      "                        annotated Docker container.\n",
      "  --beta-conda-dependencies\n",
      "                        Short cut to use Conda to resolve\n",
      "                        'SoftwareRequirement' packages.\n",
      "  --tool-help           Print command line help for tool\n",
      "  --relative-deps {primary,cwd}\n",
      "                        When using --print-deps, print paths relative to\n",
      "                        primary file or current working directory.\n",
      "  --enable-dev          Enable loading and running unofficial development\n",
      "                        versions of the CWL standards.\n",
      "  --enable-ext          Enable loading and running 'cwltool:' extensions to\n",
      "                        the CWL standards.\n",
      "  --enable-color        Enable logging color (default enabled)\n",
      "  --disable-color       Disable colored logging (default false)\n",
      "  --default-container DEFAULT_CONTAINER\n",
      "                        Specify a default software container to use for any\n",
      "                        CommandLineTool without a DockerRequirement.\n",
      "  --no-match-user       Disable passing the current uid to `docker run --user`\n",
      "  --custom-net CUSTOM_NET\n",
      "                        Passed to `docker run` as the '--net' parameter when\n",
      "                        NetworkAccess is true, which is its default setting.\n",
      "  --enable-ga4gh-tool-registry\n",
      "                        Enable tool resolution using GA4GH tool registry API\n",
      "  --disable-ga4gh-tool-registry\n",
      "                        Disable tool resolution using GA4GH tool registry API\n",
      "  --add-ga4gh-tool-registry GA4GH_TOOL_REGISTRIES\n",
      "                        Add a GA4GH tool registry endpoint to use for\n",
      "                        resolution, default ['https://dockstore.org/api']\n",
      "  --on-error {stop,continue}\n",
      "                        Desired workflow behavior when a step fails. One of\n",
      "                        'stop' (do not submit any more steps) or 'continue'\n",
      "                        (may submit other steps that are not downstream from\n",
      "                        the error). Default is 'stop'.\n",
      "  --compute-checksum    Compute checksum of contents while collecting outputs\n",
      "  --no-compute-checksum\n",
      "                        Do not compute checksum of contents while collecting\n",
      "                        outputs\n",
      "  --relax-path-checks   Relax requirements on path names to permit spaces and\n",
      "                        hash characters.\n",
      "  --force-docker-pull   Pull latest software container image even if it is\n",
      "                        locally present\n",
      "  --no-read-only        Do not set root directory in the container as read-\n",
      "                        only\n",
      "  --overrides OVERRIDES\n",
      "                        Read process requirement overrides from file.\n",
      "  --target TARGET, -t TARGET\n",
      "                        Only execute steps that contribute to listed targets\n",
      "                        (can be provided more than once).\n",
      "  --single-step SINGLE_STEP\n",
      "                        Only executes a single step in a workflow. The input\n",
      "                        object must match that step's inputs. Can be combined\n",
      "                        with --print-subgraph.\n",
      "  --single-process SINGLE_PROCESS\n",
      "                        Only executes the underlying Process (CommandLineTool,\n",
      "                        ExpressionTool, or sub-Workflow) for the given step in\n",
      "                        a workflow. This will not include any step-level\n",
      "                        processing: 'scatter', 'when'; and there will be no\n",
      "                        processing of step-level 'default', or 'valueFrom'\n",
      "                        input modifiers. However, requirements/hints from the\n",
      "                        step or parent workflow(s) will be inherited as\n",
      "                        usual.The input object must match that Process's\n",
      "                        inputs.\n",
      "  --mpi-config-file MPI_CONFIG_FILE\n",
      "                        Platform specific configuration for MPI (parallel\n",
      "                        launcher, its flag etc). See README section 'Running\n",
      "                        MPI-based tools' for details of the format.\n",
      "\n",
      "Options for recording the Docker container identifier into a file.:\n",
      "  --cidfile-dir CIDFILE_DIR\n",
      "                        Store the Docker container ID into a file in the\n",
      "                        specified directory.\n",
      "  --cidfile-prefix CIDFILE_PREFIX\n",
      "                        Specify a prefix to the container ID filename. Final\n",
      "                        file name will be followed by a timestamp. The default\n",
      "                        is no prefix.\n",
      "\n",
      "Options for recording provenance information of the execution:\n",
      "  --provenance PROVENANCE\n",
      "                        Save provenance to specified folder as a Research\n",
      "                        Object that captures and aggregates workflow execution\n",
      "                        and data products.\n",
      "  --enable-user-provenance\n",
      "                        Record user account info as part of provenance.\n",
      "  --disable-user-provenance\n",
      "                        Do not record user account info in provenance.\n",
      "  --enable-host-provenance\n",
      "                        Record host info as part of provenance.\n",
      "  --disable-host-provenance\n",
      "                        Do not record host info in provenance.\n",
      "  --orcid ORCID         Record user ORCID identifier as part of provenance,\n",
      "                        e.g. https://orcid.org/0000-0002-1825-0097 or\n",
      "                        0000-0002-1825-0097. Alternatively the environment\n",
      "                        variable ORCID may be set.\n",
      "  --full-name CWL_FULL_NAME\n",
      "                        Record full name of user as part of provenance, e.g.\n",
      "                        Josiah Carberry. You may need to use shell quotes to\n",
      "                        preserve spaces. Alternatively the environment\n",
      "                        variable CWL_FULL_NAME may be set.\n"
     ]
    }
   ],
   "source": [
    "cwltool --help"
   ]
  },
  {
   "cell_type": "markdown",
   "metadata": {},
   "source": [
    "## Running the Quick Start workflow\n",
    "\n",
    "The usage of the cwltool command-line executable is basically:\n",
    "\n",
    "```\n",
    "cwltool [OPTIONS] [CWL_DOCUMENT] [INPUTS_OBJECT]. \n",
    "```\n",
    "\n",
    "You can run the `quickstart.cwl` workflow without specifying any option:\n",
    "\n"
   ]
  },
  {
   "cell_type": "code",
   "execution_count": 3,
   "metadata": {
    "vscode": {
     "languageId": "shellscript"
    }
   },
   "outputs": [
    {
     "name": "stdout",
     "output_type": "stream",
     "text": [
      "\u001b[1;30mINFO\u001b[0m /opt/conda/bin/cwltool 3.1.20231114134824\n",
      "\u001b[1;30mINFO\u001b[0m Resolved 'quick-start.cwl' to 'file:///workspace/cwl-guide-for-eo/notebooks/01%20-%20%20Quick%20start/quick-start.cwl'\n",
      "\u001b[1;30mINFO\u001b[0m [job quick-start.cwl] /tmp/3iaabx0g$ podman \\\n",
      "    run \\\n",
      "    -i \\\n",
      "    --userns=keep-id \\\n",
      "    --mount=type=bind,source=/tmp/3iaabx0g,target=/yYqziS \\\n",
      "    --mount=type=bind,source=/tmp/m1m442i3,target=/tmp \\\n",
      "    --workdir=/yYqziS \\\n",
      "    --read-only=true \\\n",
      "    --user=1001:100 \\\n",
      "    --rm \\\n",
      "    --cidfile=/tmp/j0813sbx/20240402112130-209968.cid \\\n",
      "    --env=TMPDIR=/tmp \\\n",
      "    --env=HOME=/yYqziS \\\n",
      "    localhost/rio:latest \\\n",
      "    rio \\\n",
      "    bounds \\\n",
      "    https://sentinel-cogs.s3.us-west-2.amazonaws.com/sentinel-s2-l2a-cogs/10/T/FK/2021/7/S2B_10TFK_20210713_0_L2A/TCI.tif\n",
      "{\"bbox\": [-121.83433447992233, 39.635871469956584, -120.5195506800343, 40.64479964952879], \"geometry\": {\"coordinates\": [[[-121.83433447992233, 39.635871469956584], [-120.5195506800343, 39.635871469956584], [-120.5195506800343, 40.64479964952879], [-121.83433447992233, 40.64479964952879], [-121.83433447992233, 39.635871469956584]]], \"type\": \"Polygon\"}, \"properties\": {\"filename\": \"TCI.tif\", \"id\": \"0\", \"title\": \"https://sentinel-cogs.s3.us-west-2.amazonaws.com/sentinel-s2-l2a-cogs/10/T/FK/2021/7/S2B_10TFK_20210713_0_L2A/TCI.tif\"}, \"type\": \"Feature\"}\n",
      "\u001b[1;30mINFO\u001b[0m [job quick-start.cwl] Max memory used: 2569MiB\n",
      "\u001b[1;30mINFO\u001b[0m [job quick-start.cwl] completed success\n",
      "{}\u001b[1;30mINFO\u001b[0m Final process status is success\n"
     ]
    }
   ],
   "source": [
    "cwltool quick-start.cwl"
   ]
  },
  {
   "cell_type": "markdown",
   "metadata": {},
   "source": [
    "**Why is the process executed in a container?**\n",
    "\n",
    "We have set an environment variable `CWLTOOL_OPTIONS=--podman` that instructs `cwltool` to run all workflows in containers using `podman`:"
   ]
  },
  {
   "cell_type": "code",
   "execution_count": 4,
   "metadata": {
    "vscode": {
     "languageId": "shellscript"
    }
   },
   "outputs": [
    {
     "name": "stdout",
     "output_type": "stream",
     "text": [
      "CWLTOOL_OPTIONS=--podman\n"
     ]
    }
   ],
   "source": [
    "env | grep CWL"
   ]
  },
  {
   "cell_type": "markdown",
   "metadata": {},
   "source": [
    "You can override the default value of the input parameter `geotiff`, similar to how you would change the argument of the rasterio `rio bounds` command:\n",
    "\n",
    "Running hello_world.cwl with cwltool passing an input parameter."
   ]
  },
  {
   "cell_type": "code",
   "execution_count": 5,
   "metadata": {
    "vscode": {
     "languageId": "shellscript"
    }
   },
   "outputs": [
    {
     "name": "stdout",
     "output_type": "stream",
     "text": [
      "\u001b[1;30mINFO\u001b[0m /opt/conda/bin/cwltool 3.1.20231114134824\n",
      "\u001b[1;30mINFO\u001b[0m Resolved 'quick-start.cwl' to 'file:///workspace/cwl-guide-for-eo/notebooks/01%20-%20%20Quick%20start/quick-start.cwl'\n",
      "\u001b[1;30mINFO\u001b[0m [job quick-start.cwl] /tmp/puojp6ut$ podman \\\n",
      "    run \\\n",
      "    -i \\\n",
      "    --userns=keep-id \\\n",
      "    --mount=type=bind,source=/tmp/puojp6ut,target=/VsKBwf \\\n",
      "    --mount=type=bind,source=/tmp/pl_fz7w6,target=/tmp \\\n",
      "    --workdir=/VsKBwf \\\n",
      "    --read-only=true \\\n",
      "    --user=1001:100 \\\n",
      "    --rm \\\n",
      "    --cidfile=/tmp/w4w5j748/20240402112137-172275.cid \\\n",
      "    --env=TMPDIR=/tmp \\\n",
      "    --env=HOME=/VsKBwf \\\n",
      "    localhost/rio:latest \\\n",
      "    rio \\\n",
      "    bounds \\\n",
      "    https://sentinel-cogs.s3.us-west-2.amazonaws.com/sentinel-s2-l2a-cogs/10/T/FK/2021/7/S2B_10TFK_20210713_0_L2A/B01.tif\n",
      "{\"bbox\": [-121.83433447992233, 39.635871469956584, -120.5195506800343, 40.64479964952879], \"geometry\": {\"coordinates\": [[[-121.83433447992233, 39.635871469956584], [-120.5195506800343, 39.635871469956584], [-120.5195506800343, 40.64479964952879], [-121.83433447992233, 40.64479964952879], [-121.83433447992233, 39.635871469956584]]], \"type\": \"Polygon\"}, \"properties\": {\"filename\": \"B01.tif\", \"id\": \"0\", \"title\": \"https://sentinel-cogs.s3.us-west-2.amazonaws.com/sentinel-s2-l2a-cogs/10/T/FK/2021/7/S2B_10TFK_20210713_0_L2A/B01.tif\"}, \"type\": \"Feature\"}\n",
      "\u001b[1;30mINFO\u001b[0m [job quick-start.cwl] Max memory used: 2569MiB\n",
      "\u001b[1;30mINFO\u001b[0m [job quick-start.cwl] completed success\n",
      "{}\u001b[1;30mINFO\u001b[0m Final process status is success\n"
     ]
    }
   ],
   "source": [
    "cwltool quick-start.cwl --geotiff \"https://sentinel-cogs.s3.us-west-2.amazonaws.com/sentinel-s2-l2a-cogs/10/T/FK/2021/7/S2B_10TFK_20210713_0_L2A/B01.tif\""
   ]
  },
  {
   "cell_type": "markdown",
   "metadata": {},
   "source": [
    "Another way of passing values to your workflow input parameters is via an Inputs Object. \n",
    "\n",
    "This is a file containing the input fields with their corresponding values. \n",
    "\n",
    "The Inputs Objects file can be written in JSON or YAML. For example:"
   ]
  },
  {
   "cell_type": "code",
   "execution_count": 6,
   "metadata": {
    "vscode": {
     "languageId": "shellscript"
    }
   },
   "outputs": [
    {
     "name": "stdout",
     "output_type": "stream",
     "text": [
      "geotiff: \"https://sentinel-cogs.s3.us-west-2.amazonaws.com/sentinel-s2-l2a-cogs/10/T/FK/2021/7/S2B_10TFK_20210713_0_L2A/B02.tif\"\n"
     ]
    }
   ],
   "source": [
    "cat inputs.yaml"
   ]
  },
  {
   "cell_type": "markdown",
   "metadata": {},
   "source": [
    "You can use this Inputs Object file now to execute the workflow:"
   ]
  },
  {
   "cell_type": "code",
   "execution_count": 7,
   "metadata": {
    "vscode": {
     "languageId": "shellscript"
    }
   },
   "outputs": [
    {
     "name": "stdout",
     "output_type": "stream",
     "text": [
      "\u001b[1;30mINFO\u001b[0m /opt/conda/bin/cwltool 3.1.20231114134824\n",
      "\u001b[1;30mINFO\u001b[0m Resolved 'quick-start.cwl' to 'file:///workspace/cwl-guide-for-eo/notebooks/01%20-%20%20Quick%20start/quick-start.cwl'\n",
      "\u001b[1;30mINFO\u001b[0m [job quick-start.cwl] /tmp/1daywddp$ podman \\\n",
      "    run \\\n",
      "    -i \\\n",
      "    --userns=keep-id \\\n",
      "    --mount=type=bind,source=/tmp/1daywddp,target=/YSFuQU \\\n",
      "    --mount=type=bind,source=/tmp/r3_nomdz,target=/tmp \\\n",
      "    --workdir=/YSFuQU \\\n",
      "    --read-only=true \\\n",
      "    --user=1001:100 \\\n",
      "    --rm \\\n",
      "    --cidfile=/tmp/oxkpetp2/20240402112144-279897.cid \\\n",
      "    --env=TMPDIR=/tmp \\\n",
      "    --env=HOME=/YSFuQU \\\n",
      "    localhost/rio:latest \\\n",
      "    rio \\\n",
      "    bounds \\\n",
      "    https://sentinel-cogs.s3.us-west-2.amazonaws.com/sentinel-s2-l2a-cogs/10/T/FK/2021/7/S2B_10TFK_20210713_0_L2A/B02.tif\n",
      "{\"bbox\": [-121.83433447992233, 39.635871469956584, -120.5195506800343, 40.64479964952879], \"geometry\": {\"coordinates\": [[[-121.83433447992233, 39.635871469956584], [-120.5195506800343, 39.635871469956584], [-120.5195506800343, 40.64479964952879], [-121.83433447992233, 40.64479964952879], [-121.83433447992233, 39.635871469956584]]], \"type\": \"Polygon\"}, \"properties\": {\"filename\": \"B02.tif\", \"id\": \"0\", \"title\": \"https://sentinel-cogs.s3.us-west-2.amazonaws.com/sentinel-s2-l2a-cogs/10/T/FK/2021/7/S2B_10TFK_20210713_0_L2A/B02.tif\"}, \"type\": \"Feature\"}\n",
      "\u001b[1;30mINFO\u001b[0m [job quick-start.cwl] Max memory used: 2569MiB\n",
      "\u001b[1;30mINFO\u001b[0m [job quick-start.cwl] completed success\n",
      "{}\u001b[1;30mINFO\u001b[0m Final process status is success\n"
     ]
    }
   ],
   "source": [
    "cwltool quick-start.cwl inputs.yaml"
   ]
  },
  {
   "cell_type": "code",
   "execution_count": null,
   "metadata": {
    "vscode": {
     "languageId": "shellscript"
    }
   },
   "outputs": [],
   "source": []
  }
 ],
 "metadata": {
  "kernelspec": {
   "display_name": "Bash",
   "language": "bash",
   "name": "bash"
  },
  "language_info": {
   "codemirror_mode": "shell",
   "file_extension": ".sh",
   "mimetype": "text/x-sh",
   "name": "bash"
  }
 },
 "nbformat": 4,
 "nbformat_minor": 2
}
