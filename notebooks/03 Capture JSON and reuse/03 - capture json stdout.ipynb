{
 "cells": [
  {
   "cell_type": "code",
   "execution_count": 4,
   "metadata": {
    "vscode": {
     "languageId": "shellscript"
    }
   },
   "outputs": [
    {
     "name": "stdout",
     "output_type": "stream",
     "text": [
      "\u001b[1;30mINFO\u001b[0m /opt/conda/bin/cwltool 3.1.20231114134824\n",
      "\u001b[1;30mINFO\u001b[0m Resolved 'workflow.cwl' to 'file:///workspace/cwl-guide-for-eo/notebooks/03%20Capture%20JSON%20and%20reuse/workflow.cwl'\n",
      "\u001b[1;30mINFO\u001b[0m [workflow ] start\n",
      "\u001b[1;30mINFO\u001b[0m [workflow ] starting step step_stac\n",
      "\u001b[1;30mINFO\u001b[0m [step step_stac] start\n",
      "\u001b[1;30mINFO\u001b[0m [job step_stac] /tmp/s_c4v8st$ podman \\\n",
      "    run \\\n",
      "    -i \\\n",
      "    --userns=keep-id \\\n",
      "    --mount=type=bind,source=/tmp/s_c4v8st,target=/AkNkpv \\\n",
      "    --mount=type=bind,source=/tmp/u1v8roae,target=/tmp \\\n",
      "    --workdir=/AkNkpv \\\n",
      "    --read-only=true \\\n",
      "    --log-driver=none \\\n",
      "    --user=1001:100 \\\n",
      "    --rm \\\n",
      "    --cidfile=/tmp/aix5x2yn/20240402141905-932712.cid \\\n",
      "    --env=TMPDIR=/tmp \\\n",
      "    --env=HOME=/AkNkpv \\\n",
      "    docker.io/curlimages/curl:latest \\\n",
      "    curl \\\n",
      "    https://earth-search.aws.element84.com/v0/collections/sentinel-s2-l2a-cogs/items/S2B_53HPA_20210723_0_L2A > /tmp/s_c4v8st/message\n",
      "  % Total    % Received % Xferd  Average Speed   Time    Time     Time  Current\n",
      "                                 Dload  Upload   Total   Spent    Left  Speed\n",
      "100 10156  100 10156    0     0  20553      0 --:--:-- --:--:-- --:--:-- 20600\n",
      "\u001b[1;30mINFO\u001b[0m [job step_stac] completed success\n",
      "\u001b[1;30mINFO\u001b[0m [step step_stac] completed success\n",
      "\u001b[1;30mINFO\u001b[0m [workflow ] starting step step_convert\n",
      "\u001b[1;30mINFO\u001b[0m [step step_convert] start\n",
      "\u001b[1;30mINFO\u001b[0m [job step_convert] /tmp/u7b_m_m8$ podman \\\n",
      "    run \\\n",
      "    -i \\\n",
      "    --userns=keep-id \\\n",
      "    --mount=type=bind,source=/tmp/u7b_m_m8,target=/AkNkpv \\\n",
      "    --mount=type=bind,source=/tmp/4ouumvy2,target=/tmp \\\n",
      "    --workdir=/AkNkpv \\\n",
      "    --read-only=true \\\n",
      "    --user=1001:100 \\\n",
      "    --rm \\\n",
      "    --cidfile=/tmp/uqzewibi/20240402141908-608932.cid \\\n",
      "    --env=TMPDIR=/tmp \\\n",
      "    --env=HOME=/AkNkpv \\\n",
      "    localhost/rio:latest \\\n",
      "    rio \\\n",
      "    convert \\\n",
      "    -f \\\n",
      "    PNG \\\n",
      "    https://sentinel-cogs.s3.us-west-2.amazonaws.com/sentinel-s2-l2a-cogs/53/H/PA/2021/7/S2B_53HPA_20210723_0_L2A/TCI.tif \\\n",
      "    quicklook.png\n",
      "WARNING:rasterio._env:CPLE_NotSupported in driver PNG does not support creation option BLOCKXSIZE\n",
      "WARNING:rasterio._env:CPLE_NotSupported in driver PNG does not support creation option BLOCKYSIZE\n",
      "WARNING:rasterio._env:CPLE_NotSupported in driver PNG does not support creation option TILED\n",
      "WARNING:rasterio._env:CPLE_NotSupported in driver PNG does not support creation option COMPRESS\n",
      "WARNING:rasterio._env:CPLE_NotSupported in driver PNG does not support creation option INTERLEAVE\n",
      "\u001b[1;30mINFO\u001b[0m [job step_convert] Max memory used: 5276MiB\n",
      "\u001b[1;30mINFO\u001b[0m [job step_convert] completed success\n",
      "\u001b[1;30mINFO\u001b[0m [step step_convert] completed success\n",
      "\u001b[1;30mINFO\u001b[0m [workflow ] completed success\n",
      "{\n",
      "    \"quicklook\": {\n",
      "        \"location\": \"file:///workspace/cwl-guide-for-eo/notebooks/03%20Capture%20JSON%20and%20reuse/quicklook.png\",\n",
      "        \"basename\": \"quicklook.png\",\n",
      "        \"class\": \"File\",\n",
      "        \"checksum\": \"sha1$5e5cdcc3e59c247bed53277f1aecaa1a6cb5b024\",\n",
      "        \"size\": 160984653,\n",
      "        \"path\": \"/workspace/cwl-guide-for-eo/notebooks/03 Capture JSON and reuse/quicklook.png\"\n",
      "    }\n",
      "}\u001b[1;30mINFO\u001b[0m Final process status is success\n"
     ]
    }
   ],
   "source": [
    "cwltool workflow.cwl --stac_item https://earth-search.aws.element84.com/v0/collections/sentinel-s2-l2a-cogs/items/S2B_53HPA_20210723_0_L2A --asset_id visual"
   ]
  },
  {
   "cell_type": "code",
   "execution_count": 5,
   "metadata": {
    "vscode": {
     "languageId": "shellscript"
    }
   },
   "outputs": [],
   "source": [
    "cat quicklook.png | display"
   ]
  },
  {
   "cell_type": "code",
   "execution_count": null,
   "metadata": {
    "vscode": {
     "languageId": "shellscript"
    }
   },
   "outputs": [],
   "source": []
  }
 ],
 "metadata": {
  "kernelspec": {
   "display_name": "Bash",
   "language": "bash",
   "name": "bash"
  },
  "language_info": {
   "codemirror_mode": "shell",
   "file_extension": ".sh",
   "mimetype": "text/x-sh",
   "name": "bash"
  }
 },
 "nbformat": 4,
 "nbformat_minor": 2
}
